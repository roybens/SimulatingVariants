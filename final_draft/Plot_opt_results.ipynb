{
 "cells": [
  {
   "cell_type": "code",
   "execution_count": 1,
   "id": "00155b1a",
   "metadata": {},
   "outputs": [
    {
     "name": "stderr",
     "output_type": "stream",
     "text": [
      "Warning: no DISPLAY environment variable.\n",
      "--No graphics will be displayed.\n"
     ]
    },
    {
     "ename": "KeyError",
     "evalue": "'persistent'",
     "output_type": "error",
     "traceback": [
      "\u001b[0;31m---------------------------------------------------------------------------\u001b[0m",
      "\u001b[0;31mKeyError\u001b[0m                                  Traceback (most recent call last)",
      "Input \u001b[0;32mIn [1]\u001b[0m, in \u001b[0;36m<module>\u001b[0;34m\u001b[0m\n\u001b[1;32m      9\u001b[0m \u001b[38;5;28;01mimport\u001b[39;00m \u001b[38;5;21;01mcurve_fitting\u001b[39;00m \u001b[38;5;28;01mas\u001b[39;00m \u001b[38;5;21;01mcf\u001b[39;00m\n\u001b[1;32m     12\u001b[0m \u001b[38;5;66;03m#from deap import tools\u001b[39;00m\n\u001b[0;32m---> 13\u001b[0m evaluator \u001b[38;5;241m=\u001b[39m \u001b[43mvcl_ev\u001b[49m\u001b[38;5;241;43m.\u001b[39;49m\u001b[43mVclamp_evaluator_HMM\u001b[49m\u001b[43m(\u001b[49m\u001b[38;5;124;43m'\u001b[39;49m\u001b[38;5;124;43m./csv_files/params_na12mut8st_mod_med.csv\u001b[39;49m\u001b[38;5;124;43m'\u001b[39;49m\u001b[43m,\u001b[49m\u001b[43m \u001b[49m\u001b[38;5;124;43m'\u001b[39;49m\u001b[38;5;124;43mBasis\u001b[39;49m\u001b[38;5;124;43m'\u001b[39;49m\u001b[43m,\u001b[49m\u001b[43m \u001b[49m\u001b[38;5;124;43m'\u001b[39;49m\u001b[38;5;124;43mna12mut8st\u001b[39;49m\u001b[38;5;124;43m'\u001b[39;49m\u001b[43m,\u001b[49m\u001b[43m \u001b[49m\u001b[38;5;124;43m'\u001b[39;49m\u001b[38;5;124;43mna16\u001b[39;49m\u001b[38;5;124;43m'\u001b[39;49m\u001b[43m,\u001b[49m\u001b[43m \u001b[49m\u001b[43mobjective_names\u001b[49m\u001b[38;5;241;43m=\u001b[39;49m\u001b[43m[\u001b[49m\u001b[38;5;124;43m'\u001b[39;49m\u001b[38;5;124;43mv_half_act\u001b[39;49m\u001b[38;5;124;43m'\u001b[39;49m\u001b[43m,\u001b[49m\u001b[43m \u001b[49m\u001b[38;5;124;43m'\u001b[39;49m\u001b[38;5;124;43mgv_slope\u001b[39;49m\u001b[38;5;124;43m'\u001b[39;49m\u001b[43m,\u001b[49m\u001b[43m \u001b[49m\u001b[38;5;124;43m'\u001b[39;49m\u001b[38;5;124;43mv_half_ssi\u001b[39;49m\u001b[38;5;124;43m'\u001b[39;49m\u001b[43m,\u001b[49m\u001b[43m \u001b[49m\u001b[38;5;124;43m'\u001b[39;49m\u001b[38;5;124;43mssi_slope\u001b[39;49m\u001b[38;5;124;43m'\u001b[39;49m\u001b[43m,\u001b[49m\u001b[38;5;124;43m'\u001b[39;49m\u001b[38;5;124;43mtau0\u001b[39;49m\u001b[38;5;124;43m'\u001b[39;49m\u001b[43m,\u001b[49m\u001b[38;5;124;43m'\u001b[39;49m\u001b[38;5;124;43mpeak_current\u001b[39;49m\u001b[38;5;124;43m'\u001b[39;49m\u001b[43m,\u001b[49m\u001b[38;5;124;43m'\u001b[39;49m\u001b[38;5;124;43mttp\u001b[39;49m\u001b[38;5;124;43m'\u001b[39;49m\u001b[43m]\u001b[49m\u001b[43m)\u001b[49m\n\u001b[1;32m     14\u001b[0m cp_file \u001b[38;5;241m=\u001b[39m \u001b[38;5;124m'\u001b[39m\u001b[38;5;124m./cp_best.pkl\u001b[39m\u001b[38;5;124m'\u001b[39m\n\u001b[1;32m     15\u001b[0m channel_name \u001b[38;5;241m=\u001b[39m \u001b[38;5;124m'\u001b[39m\u001b[38;5;124mna12mut8st\u001b[39m\u001b[38;5;124m'\u001b[39m\n",
      "File \u001b[0;32m/neuron_wrk/SimulatingVariants/final_draft/vclamp_evaluator_HMMtoHH.py:72\u001b[0m, in \u001b[0;36mVclamp_evaluator_HMM.__init__\u001b[0;34m(self, params_file, mutant, channel_name_HMM, channel_name_HH, objective_names)\u001b[0m\n\u001b[1;32m     69\u001b[0m     \u001b[38;5;28mself\u001b[39m\u001b[38;5;241m.\u001b[39mobjectives\u001b[38;5;241m.\u001b[39mappend(bpop\u001b[38;5;241m.\u001b[39mobjectives\u001b[38;5;241m.\u001b[39mObjective(obj))\n\u001b[1;32m     71\u001b[0m \u001b[38;5;28mself\u001b[39m\u001b[38;5;241m.\u001b[39mprotocols \u001b[38;5;241m=\u001b[39m eh\u001b[38;5;241m.\u001b[39mread_mutant_protocols(\u001b[38;5;124m'\u001b[39m\u001b[38;5;124mcsv_files/mutant_protocols.csv\u001b[39m\u001b[38;5;124m'\u001b[39m, mutant)\n\u001b[0;32m---> 72\u001b[0m \u001b[38;5;28mself\u001b[39m\u001b[38;5;241m.\u001b[39mscore_calculator \u001b[38;5;241m=\u001b[39m \u001b[43msf\u001b[49m\u001b[38;5;241;43m.\u001b[39;49m\u001b[43mScore_Function\u001b[49m\u001b[43m(\u001b[49m\u001b[38;5;28;43mself\u001b[39;49m\u001b[38;5;241;43m.\u001b[39;49m\u001b[43mprotocols\u001b[49m\u001b[43m,\u001b[49m\u001b[43m \u001b[49m\u001b[38;5;28;43mself\u001b[39;49m\u001b[38;5;241;43m.\u001b[39;49m\u001b[43mwild_data\u001b[49m\u001b[43m,\u001b[49m\u001b[43m \u001b[49m\u001b[38;5;28;43mself\u001b[39;49m\u001b[38;5;241;43m.\u001b[39;49m\u001b[43mchannel_name_HMM\u001b[49m\u001b[43m)\u001b[49m\n",
      "File \u001b[0;32m/neuron_wrk/SimulatingVariants/final_draft/scoring_functions_relative.py:39\u001b[0m, in \u001b[0;36mScore_Function.__init__\u001b[0;34m(self, diff_dict, wild_data, channel_name)\u001b[0m\n\u001b[1;32m     34\u001b[0m \u001b[38;5;66;03m# self.tau_fast_wild = wild_data['tau_fast']\u001b[39;00m\n\u001b[1;32m     35\u001b[0m \u001b[38;5;66;03m# self.tau_slow_wild = wild_data['tau_slow']\u001b[39;00m\n\u001b[1;32m     36\u001b[0m \u001b[38;5;66;03m# self.percent_fast_wild = wild_data['percent_fast']\u001b[39;00m\n\u001b[1;32m     37\u001b[0m \u001b[38;5;66;03m# self.udb20_wild = wild_data['udb20']\u001b[39;00m\n\u001b[1;32m     38\u001b[0m \u001b[38;5;28mself\u001b[39m\u001b[38;5;241m.\u001b[39mtau0_wild \u001b[38;5;241m=\u001b[39m wild_data[\u001b[38;5;124m'\u001b[39m\u001b[38;5;124mtau0\u001b[39m\u001b[38;5;124m'\u001b[39m]\n\u001b[0;32m---> 39\u001b[0m \u001b[38;5;28mself\u001b[39m\u001b[38;5;241m.\u001b[39mpersistent_wild \u001b[38;5;241m=\u001b[39m \u001b[43mwild_data\u001b[49m\u001b[43m[\u001b[49m\u001b[38;5;124;43m'\u001b[39;49m\u001b[38;5;124;43mpersistent\u001b[39;49m\u001b[38;5;124;43m'\u001b[39;49m\u001b[43m]\u001b[49m\n\u001b[1;32m     40\u001b[0m \u001b[38;5;66;03m# self.ramp_wild = wild_data['ramp']\u001b[39;00m\n\u001b[1;32m     41\u001b[0m \u001b[38;5;66;03m#\u001b[39;00m\n\u001b[1;32m     42\u001b[0m \u001b[38;5;28mself\u001b[39m\u001b[38;5;241m.\u001b[39mchannel_name \u001b[38;5;241m=\u001b[39m channel_name\n",
      "\u001b[0;31mKeyError\u001b[0m: 'persistent'"
     ]
    }
   ],
   "source": [
    "import numpy as np\n",
    "import matplotlib.pyplot as plt\n",
    "import pickle\n",
    "#from generate_simulation import *\n",
    "import vclamp_evaluator_HMMtoHH as vcl_ev\n",
    "import general_plotter as plotter\n",
    "from generate_simulation import *\n",
    "import eval_helper as eh\n",
    "import curve_fitting as cf\n",
    "\n",
    "\n",
    "#from deap import tools\n",
    "evaluator = vcl_ev.Vclamp_evaluator_HMM('./csv_files/params_na12mut8st_mod_med.csv', 'Basis', 'na12mut8st', 'na16', objective_names=['v_half_act', 'gv_slope', 'v_half_ssi', 'ssi_slope','tau0','peak_current','ttp'])\n",
    "cp_file = './cp_best.pkl'\n",
    "channel_name = 'na12mut8st'\n",
    "\n",
    "##RBS you now need to check in the evaluator that you call peak_amp and TTP with the right ranges: [13,36?]"
   ]
  },
  {
   "cell_type": "code",
   "execution_count": 2,
   "id": "323e64ac",
   "metadata": {},
   "outputs": [],
   "source": [
    "initial_params_list = [\n",
    "    4.584982656184167e+01,\n",
    "    2.393541665657613e-02,\n",
    "    1.440952344322651e-02,\n",
    "    8.847609128769419e-02,\n",
    "    1.980838207143563e+01,\n",
    "    2.217709530008501e-02,\n",
    "    5.650174488683913e-01,\n",
    "    6.108403283302217e-02,\n",
    "    7.181189201089192e+01,\n",
    "    6.593790601261940e-02,\n",
    "    7.531178253431512e-01,\n",
    "    3.647978133116471e-02,\n",
    "    2.830146966213825e+00,\n",
    "    2.890045633775495e-01,\n",
    "    6.960300544163878e-02,\n",
    "    5.757824421450554e-01,\n",
    "    1.628407420157048e+02,\n",
    "    2.680107016756367e-02,\n",
    "    10,\n",
    "    10,\n",
    "    8000,\n",
    "    1,\n",
    "    1\n",
    "]"
   ]
  },
  {
   "cell_type": "code",
   "execution_count": 5,
   "id": "2640b3e4",
   "metadata": {},
   "outputs": [],
   "source": [
    "csv_file = './csv_files/params_na12mut8st_mod_med.csv'\n",
    "a = eh.read_params_range(csv_file)\n",
    "cp_file = './cp_best.pkl'\n",
    "channel_name = 'na12mut8st'"
   ]
  },
  {
   "cell_type": "code",
   "execution_count": 6,
   "id": "9c01874d",
   "metadata": {},
   "outputs": [],
   "source": [
    "opt_data = pickle.load( open( cp_file, \"rb\" ) )"
   ]
  },
  {
   "cell_type": "code",
   "execution_count": 7,
   "id": "b8677ab8",
   "metadata": {},
   "outputs": [
    {
     "name": "stdout",
     "output_type": "stream",
     "text": [
      "dict_keys(['population', 'generation', 'parents', 'halloffame', 'history', 'logbook', 'rndstate'])\n"
     ]
    }
   ],
   "source": [
    "print(opt_data.keys())\n",
    "hof = opt_data['halloffame']\n",
    "log = opt_data['logbook']"
   ]
  },
  {
   "cell_type": "code",
   "execution_count": 8,
   "id": "c81ab21c",
   "metadata": {},
   "outputs": [
    {
     "name": "stdout",
     "output_type": "stream",
     "text": [
      "gen\tnevals\tavg    \tstd        \tmin     \tmax        \n",
      "1  \t500   \t795487 \t1.11165e+06\t59.1853 \t4.13663e+06\n",
      "2  \t500   \t807853 \t1.13688e+06\t59.1853 \t4.13663e+06\n",
      "3  \t500   \t224575 \t644604     \t59.1853 \t4.13666e+06\n",
      "4  \t500   \t122263 \t482084     \t51.4605 \t2.09927e+06\n",
      "5  \t500   \t74984.7\t381125     \t39.1624 \t2.10889e+06\n",
      "6  \t500   \t46408.9\t300494     \t32.3131 \t2.09921e+06\n",
      "7  \t500   \t44441.2\t295584     \t32.0108 \t2.10881e+06\n",
      "8  \t500   \t46332.5\t300963     \t34.5513 \t2.10984e+06\n",
      "9  \t500   \t31875.9\t248270     \t33.8186 \t2.09954e+06\n",
      "10 \t500   \t34159  \t259176     \t15.9419 \t2.10882e+06\n",
      "11 \t500   \t15409  \t170644     \t22.9964 \t2.09968e+06\n",
      "12 \t500   \t38230.3\t288383     \t28.9518 \t4.13661e+06\n",
      "13 \t500   \t15413.7\t171353     \t26.4003 \t2.09887e+06\n",
      "14 \t500   \t23545.8\t213111     \t26.4003 \t2.09879e+06\n",
      "15 \t500   \t11306.9\t144563     \t33.1904 \t2.09901e+06\n",
      "16 \t500   \t13290.5\t158136     \t19.8514 \t2.09915e+06\n",
      "17 \t500   \t27668.8\t230956     \t5.86544 \t2.05097e+06\n",
      "18 \t500   \t33353.8\t256787     \t5.86544 \t2.10037e+06\n",
      "19 \t500   \t21057.9\t203341     \t5.86544 \t2.0988e+06 \n",
      "20 \t500   \t14912.7\t169901     \t5.86544 \t2.04042e+06\n",
      "21 \t500   \t27395.7\t230902     \t5.86544 \t2.04329e+06\n",
      "22 \t500   \t49753  \t311871     \t5.86544 \t2.04218e+06\n",
      "23 \t500   \t47626.4\t306204     \t5.86544 \t2.09885e+06\n",
      "24 \t500   \t57976  \t336477     \t5.86544 \t2.09946e+06\n",
      "25 \t500   \t2638.51\t64564.9    \t5.86544 \t2.04293e+06\n",
      "26 \t500   \t383.747\t693.517    \t5.86544 \t6928.51    \n",
      "27 \t500   \t4682.22\t91028.9    \t5.86544 \t2.03805e+06\n",
      "28 \t500   \t10969.8\t143855     \t5.86544 \t2.04187e+06\n",
      "29 \t500   \t8627.58\t129695     \t5.86544 \t2.09883e+06\n",
      "30 \t500   \t4761.94\t91214.1    \t5.86544 \t2.0424e+06 \n",
      "31 \t500   \t4852.14\t92450.6    \t5.86544 \t2.09893e+06\n",
      "32 \t500   \t10841.2\t143830     \t5.86544 \t2.04246e+06\n",
      "33 \t500   \t14730  \t170115     \t5.86544 \t2.04367e+06\n",
      "34 \t500   \t10646.7\t144627     \t5.86544 \t2.09887e+06\n",
      "35 \t500   \t2562.53\t66332.5    \t5.86544 \t2.0989e+06 \n",
      "36 \t500   \t8757.28\t130614     \t5.86544 \t2.09906e+06\n",
      "37 \t500   \t10776.3\t145661     \t5.86544 \t2.1088e+06 \n",
      "38 \t500   \t567.967\t1195.56    \t7.30263 \t19849.3    \n",
      "39 \t500   \t4831.08\t92689.9    \t7.30263 \t2.09907e+06\n",
      "40 \t500   \t6744.12\t111598     \t4.8922  \t2.04266e+06\n",
      "41 \t500   \t6643.37\t111523     \t6.17841 \t2.04269e+06\n",
      "42 \t500   \t12820.4\t158318     \t4.36836 \t2.0988e+06 \n",
      "43 \t500   \t8768.56\t128805     \t8.23454 \t2.04269e+06\n",
      "44 \t500   \t4504.25\t91187.6    \t6.70835 \t2.04169e+06\n",
      "45 \t500   \t12620.8\t157545     \t6.70835 \t2.0422e+06 \n",
      "46 \t500   \t6449.11\t111504     \t6.70835 \t2.04137e+06\n",
      "47 \t500   \t2385.61\t64430.5    \t6.70835 \t2.0387e+06 \n",
      "48 \t500   \t310.466\t693.991    \t6.70835 \t11086.7    \n",
      "49 \t500   \t4457.48\t92487.2    \t4.79955 \t2.09969e+06\n",
      "50 \t500   \t6494.82\t111584     \t3.51853 \t2.04318e+06\n",
      "51 \t500   \t4454.42\t92489.4    \t2.80361 \t2.09886e+06\n",
      "52 \t500   \t2386.6 \t64501.7    \t2.80361 \t2.04097e+06\n",
      "53 \t500   \t264.005\t612.729    \t2.81561 \t5995.91    \n",
      "54 \t500   \t8469.63\t129829     \t2.81561 \t2.09917e+06\n",
      "55 \t500   \t4384.27\t91171.1    \t2.81561 \t2.04155e+06\n",
      "56 \t500   \t2331.33\t64505      \t2.81561 \t2.04098e+06\n",
      "57 \t500   \t6436.76\t112677     \t2.35142 \t2.09876e+06\n",
      "58 \t500   \t2302.01\t64413.5    \t2.81561 \t2.03812e+06\n",
      "59 \t500   \t275.811\t687.441    \t1.94729 \t8462.12    \n",
      "60 \t500   \t4378.53\t91194.7    \t2.81561 \t2.0416e+06 \n",
      "61 \t500   \t4348.01\t91205.2    \t2.81561 \t2.04283e+06\n",
      "62 \t500   \t4419.99\t92418.4    \t2.7919  \t2.09895e+06\n",
      "63 \t500   \t8433.39\t128805     \t2.81561 \t2.04263e+06\n",
      "64 \t500   \t2320.85\t64406.8    \t2.81561 \t2.03792e+06\n",
      "65 \t500   \t8532.84\t129676     \t2.81561 \t2.09876e+06\n",
      "66 \t500   \t6394.59\t111563     \t2.33754 \t2.04219e+06\n",
      "67 \t500   \t2337.26\t64490.2    \t2.33754 \t2.04044e+06\n",
      "68 \t500   \t4403.32\t92413.3    \t1.71626 \t2.0991e+06 \n",
      "69 \t500   \t2298.8 \t64563.8    \t1.71626 \t2.04286e+06\n",
      "70 \t500   \t2291.61\t64542.9    \t1.71626 \t2.04223e+06\n",
      "71 \t500   \t4398.56\t92496.2    \t1.71626 \t2.09967e+06\n",
      "72 \t500   \t4355.9 \t91176.3    \t1.71626 \t2.04161e+06\n",
      "73 \t500   \t2323.15\t64482.5    \t1.71626 \t2.04032e+06\n",
      "74 \t500   \t4344.33\t91217.5    \t0.978754\t2.04314e+06\n",
      "75 \t500   \t2323.89\t66338.3    \t0.978754\t2.099e+06  \n",
      "76 \t500   \t2320.66\t64414.2    \t0.978754\t2.03811e+06\n",
      "77 \t500   \t307.268\t779.108    \t0.978754\t7544.91    \n",
      "78 \t500   \t259.905\t578.302    \t0.978754\t4764.89    \n",
      "79 \t500   \t257.83 \t647.751    \t0.978754\t10007.3    \n",
      "80 \t500   \t275.506\t686.159    \t0.978754\t10899.1    \n",
      "81 \t500   \t2361.9 \t66382.7    \t0.978754\t2.10042e+06\n",
      "82 \t500   \t232.153\t527.968    \t0.893517\t5410.04    \n",
      "83 \t500   \t6358.86\t111515     \t0.893517\t2.04154e+06\n",
      "84 \t500   \t2327.74\t64520.8    \t0.988072\t2.04152e+06\n",
      "85 \t500   \t2281.2 \t64509.3    \t0.497927\t2.04114e+06\n",
      "86 \t500   \t6371.11\t111633     \t0.497927\t2.04232e+06\n",
      "87 \t500   \t2263.48\t64492.5    \t0.497927\t2.0406e+06 \n",
      "88 \t500   \t6391.83\t111582     \t0.497927\t2.04173e+06\n",
      "89 \t500   \t237.575\t620.719    \t0.497927\t6589.02    \n",
      "90 \t500   \t249.934\t635.719    \t0.497927\t7958.25    \n",
      "91 \t500   \t2278.69\t64531.8    \t0.497927\t2.04186e+06\n",
      "92 \t500   \t4309.72\t91235.4    \t0.497927\t2.04289e+06\n",
      "93 \t500   \t6402.78\t112631     \t0.497927\t2.09977e+06\n",
      "94 \t500   \t4296.77\t91216.9    \t0.497927\t2.04256e+06\n",
      "95 \t500   \t4320.73\t91041.5    \t0.497927\t2.0381e+06 \n",
      "96 \t500   \t4318.05\t91178.6    \t0.497927\t2.04112e+06\n",
      "97 \t500   \t250.917\t624.668    \t0.497927\t7797.75    \n",
      "98 \t500   \t4342.3 \t91128.7    \t0.497927\t2.04197e+06\n",
      "99 \t500   \t256.833\t615.325    \t0.497927\t7782.29    \n",
      "100\t500   \t2345.83\t64550.2    \t0.497927\t2.04154e+06\n",
      "101\t500   \t6368.74\t111709     \t0.497927\t2.04532e+06\n",
      "102\t500   \t263.332\t644.059    \t0.497927\t7071.98    \n",
      "103\t500   \t236.624\t529.226    \t0.497927\t5413.22    \n",
      "104\t500   \t6441.87\t112672     \t0.497927\t2.09927e+06\n",
      "105\t500   \t288.017\t1028.06    \t0.623906\t21110.1    \n",
      "106\t500   \t2300.97\t64408.3    \t0.580653\t2.03795e+06\n",
      "107\t500   \t4336.68\t91173.3    \t0.541175\t2.041e+06  \n",
      "108\t500   \t2292.76\t64510.8    \t0.541175\t2.04119e+06\n",
      "109\t500   \t6433.32\t112752     \t0.541175\t2.10027e+06\n",
      "110\t500   \t4315.2 \t91213.4    \t0.541175\t2.04195e+06\n",
      "111\t500   \t6395.58\t111838     \t0.541175\t2.05097e+06\n",
      "112\t500   \t238.931\t585.66     \t0.541175\t4789.58    \n",
      "113\t500   \t2272.93\t64487.2    \t0.541175\t2.04044e+06\n",
      "114\t500   \t6374.32\t111596     \t0.541137\t2.04298e+06\n",
      "115\t500   \t248.529\t731.198    \t0.623906\t13378.6    \n",
      "116\t500   \t6368.86\t111549     \t0.623906\t2.0408e+06 \n",
      "117\t500   \t2296.23\t64422.1    \t0.623906\t2.03837e+06\n",
      "118\t500   \t6404.76\t111604     \t0.623906\t2.04127e+06\n",
      "119\t500   \t4315.1 \t91198.5    \t0.623906\t2.0419e+06 \n",
      "120\t500   \t2311.39\t64559.7    \t0.623906\t2.04271e+06\n",
      "121\t500   \t2292.65\t64464.9    \t0.623906\t2.03975e+06\n",
      "122\t500   \t4338.63\t91179.9    \t0.623906\t2.04241e+06\n",
      "123\t500   \t6492.91\t113765     \t0.623906\t2.09976e+06\n",
      "124\t500   \t257.319\t661.072    \t0.623906\t7595.63    \n",
      "125\t500   \t2323.68\t64588.4    \t0.623906\t2.04359e+06\n",
      "126\t500   \t8530.58\t129766     \t0.623906\t2.09907e+06\n",
      "127\t500   \t2323.64\t64634.4    \t0.413929\t2.04508e+06\n",
      "128\t500   \t2305.54\t64524.4    \t0.413929\t2.04156e+06\n",
      "129\t500   \t376.587\t3229.31    \t0.413929\t99332.7    \n",
      "130\t500   \t283.555\t713.867    \t0.413929\t5645.87    \n",
      "131\t500   \t2311.92\t64503.2    \t0.413929\t2.04095e+06\n",
      "132\t500   \t245.548\t503.873    \t0.413929\t4184.79    \n",
      "133\t500   \t2308.88\t64491.2    \t0.413929\t2.04057e+06\n",
      "134\t500   \t6437.4 \t112700     \t0.413929\t2.09952e+06\n",
      "135\t500   \t2306.3 \t66368.2    \t0.413929\t2.09996e+06\n",
      "136\t500   \t4332.75\t91103.1    \t0.413929\t2.04085e+06\n",
      "137\t500   \t14547.9\t170102     \t0.413929\t2.04248e+06\n",
      "138\t500   \t4313.36\t91099.4    \t0.385008\t2.04053e+06\n",
      "139\t500   \t2273.3 \t64522.3    \t0.364668\t2.04154e+06\n",
      "140\t500   \t2297.51\t64548.7    \t0.364668\t2.04219e+06\n",
      "141\t500   \t10509  \t144802     \t0.364668\t2.09925e+06\n",
      "142\t500   \t2288.71\t64406.4    \t0.364668\t2.03788e+06\n",
      "143\t500   \t233.189\t552.839    \t0.364668\t6328.64    \n",
      "144\t500   \t2324.12\t64408.9    \t0.364668\t2.03796e+06\n",
      "145\t500   \t8397.7 \t128804     \t0.364668\t2.04345e+06\n",
      "146\t500   \t6407.48\t112681     \t0.364668\t2.09884e+06\n",
      "147\t500   \t4368.72\t91130.2    \t0.364668\t2.04154e+06\n",
      "148\t500   \t6445.04\t112756     \t0.364668\t2.09895e+06\n",
      "149\t500   \t4391.44\t92540.3    \t0.364668\t2.09908e+06\n",
      "150\t500   \t8464.36\t129757     \t0.364668\t2.09973e+06\n",
      "151\t500   \t2355.34\t66335.5    \t0.364668\t2.09892e+06\n",
      "152\t500   \t6363.21\t111529     \t0.364668\t2.04198e+06\n",
      "153\t500   \t4357.31\t91247.4    \t0.364668\t2.04432e+06\n",
      "154\t500   \t10429.1\t143884     \t0.364668\t2.04095e+06\n",
      "155\t500   \t2316.95\t64545.2    \t0.364668\t2.04219e+06\n",
      "156\t500   \t229.331\t530.19     \t0.364668\t5773.81    \n",
      "157\t500   \t6386.08\t111642     \t0.364668\t2.04218e+06\n",
      "158\t500   \t4425.03\t92481.2    \t0.364668\t2.09947e+06\n",
      "159\t500   \t8403.67\t128823     \t0.364668\t2.04154e+06\n",
      "160\t500   \t267.696\t667.35     \t0.364668\t10947      \n",
      "161\t500   \t4308.25\t91044.5    \t0.364668\t2.03809e+06\n",
      "162\t500   \t4338.44\t91128.5    \t0.364668\t2.0419e+06 \n",
      "163\t500   \t2338.98\t64417.1    \t0.364668\t2.03813e+06\n",
      "164\t500   \t4327.81\t91136.4    \t0.364668\t2.04113e+06\n",
      "165\t500   \t260.844\t613.428    \t0.364668\t5583.05    \n",
      "166\t500   \t8417.85\t128803     \t0.364668\t2.04217e+06\n",
      "167\t500   \t2249.58\t64424.2    \t0.364668\t2.03842e+06\n",
      "168\t500   \t4315.69\t91060.3    \t0.364668\t2.03855e+06\n",
      "169\t500   \t8385.13\t128813     \t0.364668\t2.04221e+06\n",
      "170\t500   \t233.833\t594.019    \t0.364668\t6632.85    \n",
      "171\t500   \t4313.11\t91220.7    \t0.364668\t2.04218e+06\n",
      "172\t500   \t261.805\t741.606    \t0.364668\t13355      \n",
      "173\t500   \t248.689\t610.864    \t0.364668\t5195.28    \n",
      "174\t500   \t2297.96\t64588.5    \t0.364668\t2.04363e+06\n",
      "175\t500   \t4415.82\t92471.1    \t0.364668\t2.09888e+06\n",
      "176\t500   \t2304.9 \t64539.2    \t0.364668\t2.04206e+06\n",
      "177\t500   \t256.49 \t670.041    \t0.364668\t9424.87    \n",
      "178\t500   \t2301.98\t64487      \t0.339494\t2.04042e+06\n",
      "179\t500   \t226.438\t528.961    \t0.364668\t5970.51    \n",
      "180\t500   \t271.148\t893.259    \t0.343704\t19214.9    \n",
      "181\t500   \t2293.15\t64527.5    \t0.343704\t2.04171e+06\n",
      "182\t500   \t2298.53\t64499.6    \t0.343704\t2.04081e+06\n",
      "183\t500   \t2318.65\t64503.5    \t0.343704\t2.04098e+06\n",
      "184\t500   \t259.639\t589.717    \t0.343704\t5947.21    \n",
      "185\t500   \t2307.34\t64407.1    \t0.343704\t2.03792e+06\n",
      "186\t500   \t2305.48\t64487      \t0.343704\t2.04043e+06\n",
      "187\t500   \t6356.15\t111585     \t0.343704\t2.04214e+06\n",
      "188\t500   \t2305.53\t64487.2    \t0.343704\t2.04044e+06\n",
      "189\t500   \t2273.19\t64421.5    \t0.343704\t2.03836e+06\n",
      "190\t500   \t4351.88\t91097.7    \t0.364668\t2.04064e+06\n",
      "191\t500   \t4348.18\t91040.6    \t0.364668\t2.03802e+06\n",
      "192\t500   \t2370.83\t66354.3    \t0.364668\t2.09949e+06\n",
      "193\t500   \t4373.23\t92415.3    \t0.364668\t2.09902e+06\n",
      "194\t500   \t4376.43\t91174      \t0.364668\t2.04153e+06\n",
      "195\t500   \t8464.27\t129674     \t0.364668\t2.1004e+06 \n",
      "196\t500   \t2360.22\t66329.8    \t0.364668\t2.09871e+06\n",
      "197\t500   \t2311.91\t64410.6    \t0.364668\t2.03801e+06\n",
      "198\t500   \t2331.25\t64486.2    \t0.364668\t2.04044e+06\n",
      "199\t500   \t315.18 \t803.258    \t0.364668\t11975.7    \n",
      "200\t500   \t2315.26\t64488.6    \t0.364668\t2.04045e+06\n",
      "201\t500   \t4310.18\t91148.2    \t0.364668\t2.04285e+06\n",
      "202\t500   \t2269.98\t64537.7    \t0.341904\t2.04204e+06\n",
      "203\t500   \t4326.4 \t91245.8    \t0.364668\t2.04291e+06\n",
      "204\t500   \t8421.71\t128806     \t0.364668\t2.04157e+06\n",
      "205\t500   \t2382.03\t64535.1    \t0.364668\t2.04164e+06\n",
      "206\t500   \t4330.2 \t91142.6    \t0.364668\t2.04219e+06\n",
      "207\t500   \t2309.91\t64537.1    \t0.364668\t2.042e+06  \n",
      "208\t500   \t273.934\t708.359    \t0.364668\t8040.36    \n",
      "209\t500   \t238.763\t534.756    \t0.364668\t4548.8     \n",
      "210\t500   \t4399.29\t92498.3    \t0.364668\t2.09887e+06\n",
      "211\t500   \t4375.76\t92502.7    \t0.364668\t2.10049e+06\n",
      "212\t500   \t265.363\t871.69     \t0.364668\t19102.3    \n",
      "213\t500   \t2318.93\t64409.2    \t0.364668\t2.03794e+06\n",
      "214\t500   \t8415.56\t128783     \t0.364668\t2.04214e+06\n",
      "215\t500   \t4329.48\t91106.6    \t0.364668\t2.04088e+06\n",
      "216\t500   \t263.427\t624.572    \t0.428377\t5308.08    \n",
      "217\t500   \t8417.49\t128827     \t0.428377\t2.0421e+06 \n",
      "218\t500   \t4334.21\t91204.7    \t0.428377\t2.04289e+06\n",
      "219\t500   \t2287.5 \t64408.5    \t0.428377\t2.03792e+06\n",
      "220\t500   \t255.655\t686.771    \t0.428377\t8342.37    \n",
      "221\t500   \t268.917\t696.068    \t0.377758\t10788.8    \n",
      "222\t500   \t6381.84\t111493     \t0.377758\t2.04076e+06\n",
      "223\t500   \t2292.84\t64486.9    \t0.322994\t2.04044e+06\n",
      "224\t500   \t2302.22\t66334.2    \t0.322994\t2.09888e+06\n",
      "225\t500   \t8442.82\t129690     \t0.322994\t2.09877e+06\n",
      "226\t500   \t2270.63\t64407.7    \t0.322994\t2.03792e+06\n",
      "227\t500   \t4326.01\t91095      \t0.322994\t2.04046e+06\n",
      "228\t500   \t278.507\t687.667    \t0.322994\t9230.37    \n",
      "229\t500   \t6390.55\t111678     \t0.322994\t2.04312e+06\n",
      "230\t500   \t2321.14\t64502.7    \t0.322994\t2.04094e+06\n",
      "231\t500   \t258.997\t639.228    \t0.322994\t9331.09    \n",
      "232\t500   \t2256.34\t64497.7    \t0.322994\t2.04077e+06\n",
      "233\t500   \t4352.19\t91114      \t0.322994\t2.04132e+06\n",
      "234\t500   \t2300.61\t64522.8    \t0.322994\t2.04154e+06\n",
      "235\t500   \t6544.68\t114771     \t0.322994\t2.0988e+06 \n",
      "236\t500   \t242.358\t590.158    \t0.322994\t5991.78    \n",
      "237\t500   \t2339.58\t66339.5    \t0.322994\t2.09902e+06\n",
      "238\t500   \t266.906\t666.29     \t0.322994\t7604.83    \n",
      "239\t500   \t2321.5 \t64419.8    \t0.322994\t2.03832e+06\n",
      "240\t500   \t289.204\t877.911    \t0.322994\t14083.6    \n",
      "241\t500   \t271.117\t717.981    \t0.322994\t10020.5    \n",
      "242\t500   \t4387.09\t92491.3    \t0.322994\t2.09899e+06\n",
      "243\t500   \t4342.91\t91126.1    \t0.322994\t2.04187e+06\n",
      "244\t500   \t8517.07\t159993     \t0.322994\t4.13661e+06\n",
      "245\t500   \t4354.48\t91193.3    \t0.322994\t2.04217e+06\n",
      "246\t500   \t263.812\t599.519    \t0.322994\t4915.39    \n",
      "247\t500   \t4283.02\t91120      \t0.322994\t2.0411e+06 \n",
      "248\t500   \t272.681\t698.728    \t0.322994\t9271.4     \n",
      "249\t500   \t247.047\t579.4      \t0.322994\t5339.99    \n",
      "250\t500   \t278.754\t716.618    \t0.322994\t9657.74    \n",
      "251\t500   \t4417.66\t92435.9    \t0.322994\t2.09953e+06\n",
      "252\t500   \t6370.09\t111605     \t0.322994\t2.04135e+06\n",
      "253\t500   \t270.596\t686.831    \t0.322994\t8017.22    \n",
      "254\t500   \t301.292\t852.579    \t0.322994\t11725.4    \n",
      "255\t500   \t4319.76\t91099.1    \t0.322994\t2.04045e+06\n",
      "256\t500   \t4393.35\t91134.3    \t0.322994\t2.04092e+06\n",
      "257\t500   \t4379.86\t92415.5    \t0.322994\t2.09908e+06\n",
      "258\t500   \t4350.91\t91156.8    \t0.322994\t2.04074e+06\n",
      "259\t500   \t8478.75\t129801     \t0.322994\t2.10894e+06\n",
      "260\t500   \t4380.16\t92506.2    \t0.322994\t2.09977e+06\n",
      "261\t500   \t2282.35\t64587      \t0.322994\t2.04359e+06\n",
      "262\t500   \t4364.93\t91219.2    \t0.322994\t2.04315e+06\n",
      "263\t500   \t6441.44\t112634     \t0.322994\t2.09913e+06\n",
      "264\t500   \t2338.38\t64522.4    \t0.322994\t2.04152e+06\n",
      "265\t500   \t2279.33\t64407.5    \t0.322994\t2.03789e+06\n",
      "266\t500   \t4313.38\t91144.2    \t0.322994\t2.04263e+06\n",
      "267\t500   \t4309.52\t91214.4    \t0.322994\t2.04575e+06\n",
      "268\t500   \t6463.33\t145752     \t0.322994\t4.13661e+06\n",
      "269\t500   \t299.569\t979.041    \t0.322994\t18082.9    \n",
      "270\t500   \t4425.75\t92700.5    \t0.322994\t2.1093e+06 \n",
      "271\t500   \t286.684\t704.305    \t0.485964\t6746.51    \n",
      "272\t500   \t2307.78\t64550.5    \t0.485964\t2.04245e+06\n",
      "273\t500   \t2351   \t66348.3    \t0.485964\t2.09931e+06\n",
      "274\t500   \t8424.41\t128800     \t0.422   \t2.04287e+06\n",
      "275\t500   \t6415.95\t112857     \t0.361101\t2.10976e+06\n",
      "276\t500   \t2348.24\t64843      \t0.485964\t2.05168e+06\n",
      "277\t500   \t240.336\t543.341    \t0.485964\t4856.43    \n",
      "278\t500   \t240.958\t601.341    \t0.485964\t5726.23    \n",
      "279\t500   \t2332.62\t64488.3    \t0.485964\t2.04043e+06\n",
      "280\t500   \t238.016\t627.279    \t0.485964\t6945.78    \n",
      "281\t500   \t6365.43\t111512     \t0.485964\t2.04159e+06\n",
      "282\t500   \t2278.14\t64498.8    \t0.485964\t2.04082e+06\n",
      "283\t500   \t926984 \t2.92271e+07\t0.485964\t9.24706e+08\n",
      "284\t500   \t231.677\t610.586    \t0.485964\t8767.08    \n",
      "285\t500   \t272.112\t756.148    \t0.485964\t10405.2    \n",
      "286\t500   \t242.491\t566.715    \t0.485964\t5740.28    \n"
     ]
    }
   ],
   "source": [
    "print(log)\n"
   ]
  },
  {
   "cell_type": "code",
   "execution_count": 9,
   "id": "ff2ef3c1",
   "metadata": {},
   "outputs": [],
   "source": [
    "def scale(val, src):\n",
    "    \"\"\"\n",
    "    scale val in the 0,1 range when given lb and ub\n",
    "    \"\"\"\n",
    "    return ((val - src[0]) / (src[1]-src[0])) "
   ]
  },
  {
   "cell_type": "code",
   "execution_count": 10,
   "id": "f82117cd",
   "metadata": {},
   "outputs": [],
   "source": [
    "csv_file = './csv_files/params_na12mut8st_mod_med.csv'\n",
    "\n",
    "def get_place_in_range(opt_ps,csv_file,print_flg = False):\n",
    "    p_names = []\n",
    "    p_fact = []\n",
    "    param_list = eh.read_params_range(csv_file)\n",
    "    for ind,p_name in enumerate(param_list.keys()):\n",
    "        tmp = param_list[p_name]\n",
    "        lb = tmp[1]\n",
    "        ub = tmp[2]\n",
    "        fact = scale(opt_ps[ind],[lb,ub])\n",
    "        p_names.append(p_name)\n",
    "        p_fact.append(fact)\n",
    "        if print_flg:\n",
    "            print(f'{p_name} - lb:{lb} ub:{ub} val:{opt_ps[ind]} p:{fact}')\n",
    "    return p_names,p_fact\n",
    "    "
   ]
  },
  {
   "cell_type": "code",
   "execution_count": 11,
   "id": "2af52a4c",
   "metadata": {},
   "outputs": [
    {
     "name": "stdout",
     "output_type": "stream",
     "text": [
      "Best params: [9.620300982359241, 0.21993431832978777, 8.2339691150931, 0.09663441819856214, 380.8108084530479, 0.00045895494796917627, 3.48737541561204, 0.026220690361812977, 128.66054601004203, 0.013521969367008347, 83.01986699334272, 0.0008620403821080834, 0.07974238837154095, 0.8827668558090755, 0.11733441999281465, 5.487455056670334, 988.1231282210897, 0.03168072638749948, -18.806787951438174, -12.227199082887001, 28029.123465929326, 4.562304349720758, 10.430301316983911]\n"
     ]
    },
    {
     "ename": "NameError",
     "evalue": "name 'evaluator' is not defined",
     "output_type": "error",
     "traceback": [
      "\u001b[0;31m---------------------------------------------------------------------------\u001b[0m",
      "\u001b[0;31mNameError\u001b[0m                                 Traceback (most recent call last)",
      "Input \u001b[0;32mIn [11]\u001b[0m, in \u001b[0;36m<module>\u001b[0;34m\u001b[0m\n\u001b[1;32m      2\u001b[0m p \u001b[38;5;241m=\u001b[39m best_hof\n\u001b[1;32m      3\u001b[0m \u001b[38;5;28mprint\u001b[39m(\u001b[38;5;124m\"\u001b[39m\u001b[38;5;124mBest params: \u001b[39m\u001b[38;5;124m\"\u001b[39m \u001b[38;5;241m+\u001b[39m \u001b[38;5;28mstr\u001b[39m(best_hof))\n\u001b[0;32m----> 4\u001b[0m \u001b[38;5;28mprint\u001b[39m(\u001b[38;5;124m\"\u001b[39m\u001b[38;5;124m[inact_err, act_err]: \u001b[39m\u001b[38;5;124m\"\u001b[39m \u001b[38;5;241m+\u001b[39m \u001b[38;5;28mstr\u001b[39m(\u001b[43mevaluator\u001b[49m\u001b[38;5;241m.\u001b[39mevaluate_with_lists(best_hof)))\n",
      "\u001b[0;31mNameError\u001b[0m: name 'evaluator' is not defined"
     ]
    }
   ],
   "source": [
    "best_hof = hof[0]\n",
    "p = best_hof\n",
    "print(\"Best params: \" + str(best_hof))\n",
    "print(\"[inact_err, act_err]: \" + str(evaluator.evaluate_with_lists(best_hof)))\n",
    "#print(\"Best invs list: \" + str(best_indvs))"
   ]
  },
  {
   "cell_type": "code",
   "execution_count": 12,
   "id": "678aa986",
   "metadata": {},
   "outputs": [],
   "source": [
    "pnames,pfactors = get_place_in_range(p,csv_file)"
   ]
  },
  {
   "cell_type": "code",
   "execution_count": 13,
   "id": "dcb662f7",
   "metadata": {},
   "outputs": [
    {
     "name": "stdout",
     "output_type": "stream",
     "text": [
      "a1_0 - lb:0.0 ub:1000.0 val:9.620300982359241 p:0.00962030098235924\n",
      "a1_1 - lb:0.0 ub:2.0 val:0.23996855060630146 p:0.11998427530315073\n",
      "b1_0 - lb:0.0 ub:10.0 val:8.7068911717457 p:0.8706891171745699\n",
      "b1_1 - lb:0.0177 ub:0.4424 val:0.06602261260521035 p:0.11378058065742959\n",
      "a2_0 - lb:0.0 ub:1000.0 val:447.9238026974483 p:0.4479238026974483\n",
      "a2_1 - lb:0.0 ub:0.1 val:0.0008020530399791628 p:0.008020530399791628\n",
      "b2_0 - lb:0.113 ub:10.0 val:3.48737541561204 p:0.34129416563285525\n",
      "b2_1 - lb:0.0 ub:0.1 val:0.0024389341836290896 p:0.024389341836290896\n",
      "a3_0 - lb:0.0 ub:359.0595 val:155.36365431013778 p:0.4326961250437261\n",
      "a3_1 - lb:0.0 ub:0.3297 val:0.01360097130062883 p:0.04125256688088817\n",
      "b3_0 - lb:0.0 ub:100.0 val:83.01986699334272 p:0.8301986699334272\n",
      "b3_1 - lb:0.0 ub:0.1 val:0.002860785122159694 p:0.02860785122159694\n",
      "bh_0 - lb:0.0 ub:4.0 val:0.40103943656107016 p:0.10025985914026754\n",
      "bh_1 - lb:0.0 ub:1.445 val:0.8097118214630509 p:0.5603542017045334\n",
      "bh_2 - lb:0.0139 ub:0.348 val:0.10356940023488811 p:0.2683909016309133\n",
      "ah_0 - lb:0.0 ub:10.0 val:6.059310436084174 p:0.6059310436084174\n",
      "ah_1 - lb:0.0 ub:5000.0 val:980.2102068784576 p:0.1960420413756915\n",
      "ah_2 - lb:0.0 ub:0.1 val:0.029781947344480177 p:0.29781947344480175\n",
      "vShift - lb:-60.0 ub:60.0 val:2.156135095545242 p:0.5179677924628769\n",
      "vShift_inact - lb:-60.0 ub:60.0 val:-12.413797236191549 p:0.39655168969840376\n",
      "maxrate - lb:1600.0 ub:40000.0 val:28029.123465929326 p:0.6882584235919095\n",
      "ahfactor - lb:0.2 ub:5.0 val:3.958408482385865 p:0.7830017671637218\n",
      "bhfactor - lb:0.2 ub:50.0 val:12.442873510907397 p:0.2458408335523574\n"
     ]
    },
    {
     "data": {
      "text/plain": [
       "[Text(0, 0, 'a1_0'),\n",
       " Text(0, 1, 'a1_1'),\n",
       " Text(0, 2, 'b1_0'),\n",
       " Text(0, 3, 'b1_1'),\n",
       " Text(0, 4, 'a2_0'),\n",
       " Text(0, 5, 'a2_1'),\n",
       " Text(0, 6, 'b2_0'),\n",
       " Text(0, 7, 'b2_1'),\n",
       " Text(0, 8, 'a3_0'),\n",
       " Text(0, 9, 'a3_1'),\n",
       " Text(0, 10, 'b3_0'),\n",
       " Text(0, 11, 'b3_1'),\n",
       " Text(0, 12, 'bh_0'),\n",
       " Text(0, 13, 'bh_1'),\n",
       " Text(0, 14, 'bh_2'),\n",
       " Text(0, 15, 'ah_0'),\n",
       " Text(0, 16, 'ah_1'),\n",
       " Text(0, 17, 'ah_2'),\n",
       " Text(0, 18, 'vShift'),\n",
       " Text(0, 19, 'vShift_inact'),\n",
       " Text(0, 20, 'maxrate'),\n",
       " Text(0, 21, 'ahfactor'),\n",
       " Text(0, 22, 'bhfactor')]"
      ]
     },
     "execution_count": 13,
     "metadata": {},
     "output_type": "execute_result"
    },
    {
     "data": {
      "image/png": "[encoded data removed]",
      "text/plain": [
       "<Figure size 432x288 with 1 Axes>"
      ]
     },
     "metadata": {
      "needs_background": "light"
     },
     "output_type": "display_data"
    }
   ],
   "source": [
    "fig = plt.figure()\n",
    "ax = fig.add_subplot(111)\n",
    "yaxis = range(len(pnames))\n",
    "for p in hof[-10:-2]:\n",
    "    pnames,pfactors = get_place_in_range(p,csv_file)\n",
    "    ax.plot(pfactors,yaxis,'.')\n",
    "pnames,pfactors = get_place_in_range(hof[-1],csv_file,True)\n",
    "ax.plot(pfactors,yaxis,'.')\n",
    "ax.set_yticks(yaxis)\n",
    "ax.set_yticklabels(pnames)\n"
   ]
  },
  {
   "cell_type": "code",
   "execution_count": null,
   "id": "597724c0",
   "metadata": {},
   "outputs": [],
   "source": [
    "p = best_hof"
   ]
  },
  {
   "cell_type": "code",
   "execution_count": null,
   "id": "33294de2",
   "metadata": {},
   "outputs": [],
   "source": [
    "plotter.plot_inact(None, 'na16', False,p,'na12mut8st',True,\"./Plots_Folder/jinan_testInact.pdf\", \"HMMtoHH\")"
   ]
  },
  {
   "cell_type": "code",
   "execution_count": null,
   "id": "d451e405",
   "metadata": {},
   "outputs": [],
   "source": [
    "plotter.plot_act(None,'na16' , False,p,'na12mut8st',True,\"./Plots_Folder/jinan_test.pdf\", \"HMMtoHH\")"
   ]
  },
  {
   "cell_type": "code",
   "execution_count": null,
   "id": "e43cee20",
   "metadata": {},
   "outputs": [],
   "source": [
    "print(best_hof)"
   ]
  },
  {
   "cell_type": "markdown",
   "id": "90106c57",
   "metadata": {},
   "source": [
    "# Test HH Target data"
   ]
  },
  {
   "cell_type": "code",
   "execution_count": null,
   "id": "5de5c7dd",
   "metadata": {},
   "outputs": [],
   "source": [
    "wild_data = {}\n",
    "# Getting objective base values for HH model.\n",
    "is_HMM = False \n",
    "# Create genSim objects\n",
    "\n",
    "act_obj = Activation_general(channel_name='na16')\n",
    "tau0 = act_obj.get_Tau_0mV()\n",
    "act_obj = Activation_general(channel_name='na16')\n",
    "act_obj.genActivation()\n",
    "peak_amp = act_obj.find_peak_amp([14, 33])\n",
    "time_to_peak = act_obj.find_time_to_peak([14, 33])\n",
    "gv_slope, v_half_act, top, bottom = cf.calc_act_obj(act_obj)\n",
    "inact_obj = Inactivation_general(channel_name='na16')\n",
    "ssi_slope, v_half_inact, top, bottom = cf.calc_inact_obj(inact_obj)\n",
    "wild_data['v_half_act'] = v_half_act\n",
    "wild_data['gv_slope'] = gv_slope\n",
    "wild_data['v_half_ssi'] = v_half_inact\n",
    "wild_data['ssi_slope'] = ssi_slope\n",
    "wild_data['tau0'] = tau0\n",
    "wild_data['peak_amp'] = peak_amp\n",
    "wild_data['time_to_peak'] = time_to_peak\n",
    "print(wild_data)\n",
    "\n"
   ]
  },
  {
   "cell_type": "code",
   "execution_count": null,
   "id": "afa29757",
   "metadata": {},
   "outputs": [],
   "source": [
    "sf = evaluator.score_calculator\n",
    "print(evaluator.wild_data)"
   ]
  },
  {
   "cell_type": "markdown",
   "id": "fa0ba674",
   "metadata": {},
   "source": [
    "# Test Scoring"
   ]
  },
  {
   "cell_type": "code",
   "execution_count": null,
   "id": "03a7ea2b",
   "metadata": {},
   "outputs": [],
   "source": [
    "errors = evaluator.evaluate_with_lists(best_hof)\n",
    "print(errors)\n",
    "print(sum(errors))"
   ]
  },
  {
   "cell_type": "code",
   "execution_count": null,
   "id": "8ce1c3b8",
   "metadata": {},
   "outputs": [],
   "source": [
    "\n",
    "\n",
    "objective_names=['v_half_act', 'gv_slope', 'v_half_ssi', 'ssi_slope','tau0','peak_current','ttp']\n",
    "act_obj = Activation_general(channel_name='na12mut8st')\n",
    "inact_obj = Inactivation_general(channel_name='na12mut8st')\n",
    "param_values = best_hof\n",
    "eh.change_params(param_values, scaled=False, is_HMM=True, sim_obj=act_obj)\n",
    "eh.change_params(param_values, scaled=False, is_HMM=True, sim_obj=inact_obj)\n"
   ]
  },
  {
   "cell_type": "code",
   "execution_count": null,
   "id": "0f380c43",
   "metadata": {},
   "outputs": [],
   "source": [
    "sf.dv_half_act_diff\n",
    "sf.gv_slope_diff"
   ]
  },
  {
   "cell_type": "code",
   "execution_count": null,
   "id": "c0879d8f",
   "metadata": {},
   "outputs": [],
   "source": [
    "objectives=['v_half_act', 'gv_slope', 'v_half_ssi', 'ssi_slope','tau0','peak_current','ttp']\n",
    "try:\n",
    "    gv_slope, v_half_act, top, bottom = cf.calc_act_obj(act_obj)\n",
    "    ssi_slope, v_half_inact, top, bottom = cf.calc_inact_obj(inact_obj)\n",
    "    # y0, plateau, percent_fast, k_fast, k_slow = cf.calc_recov_obj(recov_obj)\n",
    "    #print('gv_slope: ' + str(gv_slope))\n",
    "    #print('v_half_act: ' + str(v_half_act))\n",
    "    #print('ssi_slope: ' + str(ssi_slope))\n",
    "    #print('v_half_inact: ' + str(v_half_inact))\n",
    "\n",
    "except ZeroDivisionError:\n",
    "    print('Zero Division Error************')\n",
    "    error_val = []\n",
    "    for i in range(len(objectives)):\n",
    "        error_val.append(1000)\n",
    "\n",
    "\n",
    "time_to_peak = act_obj.find_time_to_peak([14, 33])\n",
    "peak_amp = act_obj.find_peak_amp([14, 33])\n",
    "tau0 = act_obj.get_Tau_0mV()\n",
    "\n",
    "errors = []\n",
    "if 'v_half_act' in objectives:\n",
    "    vhalf_act_error = sf.dv_half_act(sf.dv_half_act_diff, v_half_act)\n",
    "    errors.append(vhalf_act_error)\n",
    "if 'gv_slope' in objectives:\n",
    "    gv_slope_error = sf.gv_slope(sf.gv_slope_diff, gv_slope)\n",
    "    errors.append(gv_slope_error)\n",
    "if 'v_half_ssi' in objectives:\n",
    "    v_half_ssi_error = sf.dv_half_ssi(sf.dv_half_ssi_diff, v_half_inact)\n",
    "    errors.append(v_half_ssi_error)\n",
    "if 'ssi_slope' in objectives:\n",
    "    ssi_slope_error = sf.ssi_slope(sf.ssi_slope_diff, ssi_slope)\n",
    "    errors.append(ssi_slope_error)\n",
    "if 'peak_current' in objectives:\n",
    "    peak_amp_errors = sf.calc_peak_amp_err(act_obj)\n",
    "    errors.append(peak_amp_errors)\n",
    "if 'ttp' in objectives:\n",
    "    time_to_peak_error = sf.calc_ttp_err(act_obj)\n",
    "    errors.append(time_to_peak_error)\n",
    "if 'tau0' in objectives:\n",
    "    tau0_error = sf.calc_tau0_err(act_obj)\n",
    "    errors.append(tau0_error)"
   ]
  },
  {
   "cell_type": "code",
   "execution_count": null,
   "id": "75ac6a4f",
   "metadata": {},
   "outputs": [],
   "source": []
  },
  {
   "cell_type": "code",
   "execution_count": null,
   "id": "b8458dc9",
   "metadata": {},
   "outputs": [],
   "source": [
    "print(objective_names)\n",
    "print(f\" vhalf_act is: {v_half_act} WT:{wild_data['v_half_act']} error: {errors[0]}\")\n",
    "print(f\" gv_slope is: {gv_slope} WT:{wild_data['gv_slope']} error: {errors[1]}\")\n",
    "print(f\" v_half_ssi is: {v_half_inact} WT:{wild_data['v_half_ssi']} error: {errors[2]}\")\n",
    "print(f\" ssi_slope is: {ssi_slope} WT:{wild_data['ssi_slope']} error: {errors[3]}\")\n",
    "print(f\" peak_current is:\\n {peak_amp} WT:\\n{wild_data['peak_amp']} error: {errors[4]}\")\n",
    "print(f\" ttp is:\\n {time_to_peak} WT:\\n{wild_data['time_to_peak']} error: {errors[5]}\")\n",
    "print(f\" tau0 is: {tau0} WT:{wild_data['tau0']} error: {errors[6]}\")\n"
   ]
  },
  {
   "cell_type": "code",
   "execution_count": null,
   "id": "ed44fe10",
   "metadata": {},
   "outputs": [],
   "source": [
    "np.sum([(time_to_peak[i] - wild_data['time_to_peak'][i]) for i in range(len(peak_amp))])\n"
   ]
  },
  {
   "cell_type": "code",
   "execution_count": null,
   "id": "ccfd0972",
   "metadata": {},
   "outputs": [],
   "source": [
    "print(act_obj.ipeak_vec)"
   ]
  },
  {
   "cell_type": "code",
   "execution_count": null,
   "id": "02adb2c5",
   "metadata": {},
   "outputs": [],
   "source": [
    "cf.calc_act_obj(act_obj)"
   ]
  },
  {
   "cell_type": "code",
   "execution_count": null,
   "id": "73ab37b8",
   "metadata": {},
   "outputs": [],
   "source": [
    "print(act_obj.ipeak_vec[12])"
   ]
  },
  {
   "cell_type": "code",
   "execution_count": null,
   "id": "0c86c57a",
   "metadata": {},
   "outputs": [],
   "source": [
    "i12 = act_obj.all_is[12]\n",
    "print(i12[np.argmin(i12)])"
   ]
  },
  {
   "cell_type": "code",
   "execution_count": null,
   "id": "d6b6916c",
   "metadata": {},
   "outputs": [],
   "source": [
    "print(act_obj.t_vec[np.argmin(i12)])"
   ]
  },
  {
   "cell_type": "code",
   "execution_count": null,
   "id": "5f30213e",
   "metadata": {},
   "outputs": [],
   "source": [
    "print(len(evaluator.wild_data['time_to_peak']))\n",
    "print(evaluator.wild_data['time_to_peak'][14:33])"
   ]
  },
  {
   "cell_type": "code",
   "execution_count": null,
   "id": "86c4ea29",
   "metadata": {},
   "outputs": [],
   "source": [
    "print(best_hof)"
   ]
  },
  {
   "cell_type": "code",
   "execution_count": null,
   "id": "14a9d6a5",
   "metadata": {},
   "outputs": [],
   "source": [
    "act_obj = Activation_general(channel_name='na12mut8st')\n",
    "act_obj.genActivation()\n",
    "time_to_peak = act_obj.find_time_to_peak([14,33])\n",
    "time_to_peak_error = np.sum([np.abs(time_to_peak[i] - wild_data['time_to_peak'][i]) for i in range(len(peak_amp))])"
   ]
  },
  {
   "cell_type": "code",
   "execution_count": null,
   "id": "9e205b21",
   "metadata": {},
   "outputs": [],
   "source": [
    "print(time_to_peak)"
   ]
  },
  {
   "cell_type": "code",
   "execution_count": null,
   "id": "588062de",
   "metadata": {},
   "outputs": [],
   "source": [
    "print(evaluator.wild_data['time_to_peak'])\n"
   ]
  },
  {
   "cell_type": "code",
   "execution_count": null,
   "id": "62158bdf",
   "metadata": {},
   "outputs": [],
   "source": [
    "act_obj = Activation_general(channel_name='na12mut8st')\n",
    "eh.change_params(param_values, scaled=False, is_HMM=True, sim_obj=act_obj)\n",
    "act_obj.clamp(0)"
   ]
  },
  {
   "cell_type": "code",
   "execution_count": null,
   "id": "04f7e738",
   "metadata": {},
   "outputs": [],
   "source": [
    "act_obj.find_ipeaks()"
   ]
  },
  {
   "cell_type": "code",
   "execution_count": null,
   "id": "26c05b1d",
   "metadata": {},
   "outputs": [],
   "source": [
    "from generate_simulation import *\n",
    "act_obj = Activation_general(channel_name='na12mut8st')\n",
    "act_obj.genActivation()\n",
    "import general_plotter as plotter"
   ]
  },
  {
   "cell_type": "code",
   "execution_count": null,
   "id": "d9ab4b92",
   "metadata": {},
   "outputs": [],
   "source": [
    "plotter.plot_currents_general(act_obj,time_range = [5,25],v_range = [0,5],i_range = [-0.3,0])\n"
   ]
  },
  {
   "cell_type": "code",
   "execution_count": null,
   "id": "db5159a3",
   "metadata": {},
   "outputs": [],
   "source": [
    "print(act_obj.all_is[0])"
   ]
  },
  {
   "cell_type": "code",
   "execution_count": null,
   "id": "3c6040a7",
   "metadata": {},
   "outputs": [],
   "source": [
    "v_mask = list(np.where(np.logical_and(act_obj.v_vec >= -10, act_obj.v_vec <=10))[0])"
   ]
  },
  {
   "cell_type": "code",
   "execution_count": null,
   "id": "610889d7",
   "metadata": {},
   "outputs": [],
   "source": [
    "print(v_mask)"
   ]
  },
  {
   "cell_type": "code",
   "execution_count": null,
   "id": "654e2815",
   "metadata": {},
   "outputs": [],
   "source": [
    "zero_ind = np.where(act_obj.v_vec == 0)[0][0]"
   ]
  },
  {
   "cell_type": "code",
   "execution_count": null,
   "id": "6ebc42dc",
   "metadata": {},
   "outputs": [],
   "source": [
    "print(zero_ind)"
   ]
  },
  {
   "cell_type": "code",
   "execution_count": null,
   "id": "7166d4b7",
   "metadata": {},
   "outputs": [],
   "source": []
  }
 ],
 "metadata": {
  "kernelspec": {
   "display_name": "Python 3 (ipykernel)",
   "language": "python",
   "name": "python3"
  },
  "language_info": {
   "codemirror_mode": {
    "name": "ipython",
    "version": 3
   },
   "file_extension": ".py",
   "mimetype": "text/x-python",
   "name": "python",
   "nbconvert_exporter": "python",
   "pygments_lexer": "ipython3",
   "version": "3.8.10"
  }
 },
 "nbformat": 4,
 "nbformat_minor": 5
}
