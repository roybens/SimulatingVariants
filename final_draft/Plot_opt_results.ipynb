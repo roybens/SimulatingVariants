{
 "cells": [
  {
   "cell_type": "code",
   "execution_count": 1,
   "id": "00155b1a",
   "metadata": {},
   "outputs": [
    {
     "name": "stderr",
     "output_type": "stream",
     "text": [
      "Warning: no DISPLAY environment variable.\n",
      "--No graphics will be displayed.\n"
     ]
    }
   ],
   "source": [
    "import numpy as np\n",
    "import matplotlib.pyplot as plt\n",
    "import pickle\n",
    "#from generate_simulation import *\n",
    "import vclamp_evaluator_HMMtoHH as vcl_ev\n",
    "import general_plotter as plotter\n",
    "from generate_simulation import *\n",
    "import eval_helper as eh\n",
    "import curve_fitting as cf\n",
    "\n",
    "#from deap import tools\n",
    "evaluator = vcl_ev.Vclamp_evaluator_HMM('./csv_files/params_na12mut8st_mod_med.csv', 'Basis', 'na12mut8st', 'na16', objective_names=['v_half_act', 'gv_slope', 'v_half_ssi', 'ssi_slope','tau0','peak_current','ttp'])\n",
    "cp_file = './cp.pkl'\n",
    "channel_name = 'na12mut8st'\n",
    "\n",
    "##RBS you now need to check in the evaluator that you call peak_amp and TTP with the right ranges: [13,36?]"
   ]
  },
  {
   "cell_type": "code",
   "execution_count": 2,
   "id": "323e64ac",
   "metadata": {},
   "outputs": [],
   "source": [
    "initial_params_list = [\n",
    "    4.584982656184167e+01,\n",
    "    2.393541665657613e-02,\n",
    "    1.440952344322651e-02,\n",
    "    8.847609128769419e-02,\n",
    "    1.980838207143563e+01,\n",
    "    2.217709530008501e-02,\n",
    "    5.650174488683913e-01,\n",
    "    6.108403283302217e-02,\n",
    "    7.181189201089192e+01,\n",
    "    6.593790601261940e-02,\n",
    "    7.531178253431512e-01,\n",
    "    3.647978133116471e-02,\n",
    "    2.830146966213825e+00,\n",
    "    2.890045633775495e-01,\n",
    "    6.960300544163878e-02,\n",
    "    5.757824421450554e-01,\n",
    "    1.628407420157048e+02,\n",
    "    2.680107016756367e-02,\n",
    "    10,\n",
    "    10,\n",
    "    8000,\n",
    "    1,\n",
    "    1\n",
    "]"
   ]
  },
  {
   "cell_type": "code",
   "execution_count": 3,
   "id": "9c01874d",
   "metadata": {},
   "outputs": [],
   "source": [
    "opt_data = pickle.load( open( cp_file, \"rb\" ) )"
   ]
  },
  {
   "cell_type": "code",
   "execution_count": 4,
   "id": "b8677ab8",
   "metadata": {},
   "outputs": [
    {
     "name": "stdout",
     "output_type": "stream",
     "text": [
      "dict_keys(['population', 'generation', 'parents', 'halloffame', 'history', 'logbook', 'rndstate'])\n"
     ]
    }
   ],
   "source": [
    "print(opt_data.keys())\n",
    "hof = opt_data['halloffame']\n",
    "log = opt_data['logbook']"
   ]
  },
  {
   "cell_type": "code",
   "execution_count": 5,
   "id": "c81ab21c",
   "metadata": {},
   "outputs": [
    {
     "name": "stdout",
     "output_type": "stream",
     "text": [
      "gen\tnevals\tavg    \tstd    \tmin     \tmax        \n",
      "1  \t500   \t497797 \t918252 \t59.0459 \t7.52716e+06\n",
      "2  \t500   \t464818 \t875949 \t58.7907 \t7.52716e+06\n",
      "3  \t500   \t287065 \t706992 \t30.8963 \t2.04464e+06\n",
      "4  \t500   \t208689 \t616721 \t14.5966 \t2.05032e+06\n",
      "5  \t500   \t165620 \t555959 \t14.5966 \t2.04202e+06\n",
      "6  \t500   \t77966.7\t389627 \t14.5966 \t2.04046e+06\n",
      "7  \t500   \t57448.6\t336162 \t14.5966 \t2.0391e+06 \n",
      "8  \t500   \t104411 \t448280 \t14.5966 \t2.04096e+06\n",
      "9  \t500   \t57826.8\t336983 \t14.5966 \t2.1088e+06 \n",
      "10 \t500   \t14850.7\t170001 \t14.5966 \t2.04798e+06\n",
      "11 \t500   \t12614.2\t157386 \t9.12016 \t2.03959e+06\n",
      "12 \t500   \t12969.6\t158975 \t13.2953 \t2.09885e+06\n",
      "13 \t500   \t12693.7\t157373 \t14.5966 \t2.03893e+06\n",
      "14 \t500   \t8798.42\t130572 \t11.5525 \t2.09881e+06\n",
      "15 \t500   \t12824.4\t157431 \t11.5736 \t2.04133e+06\n",
      "16 \t500   \t6619.71\t111464 \t8.8871  \t2.03889e+06\n",
      "17 \t500   \t10642.4\t144635 \t10.0428 \t2.09871e+06\n",
      "18 \t500   \t23179.6\t214357 \t8.52785 \t2.09871e+06\n",
      "19 \t500   \t13042.9\t159730 \t8.52785 \t2.09871e+06\n",
      "20 \t500   \t17185.8\t184263 \t6.72295 \t2.09871e+06\n",
      "21 \t500   \t10837  \t145485 \t8.52785 \t2.09871e+06\n",
      "22 \t500   \t4707.34\t91096.5\t7.9041  \t2.04041e+06\n",
      "23 \t500   \t4437.35\t91101.9\t2.42465 \t2.04094e+06\n",
      "24 \t500   \t6473.22\t111516 \t2.42465 \t2.04044e+06\n",
      "25 \t500   \t341.755\t1095.15\t2.42465 \t13240.6    \n",
      "26 \t500   \t2465.27\t64510.9\t2.42465 \t2.04099e+06\n",
      "27 \t500   \t8619.61\t129700 \t2.42465 \t2.09886e+06\n",
      "28 \t500   \t4466.64\t91103.6\t2.42465 \t2.04095e+06\n",
      "29 \t500   \t6459.65\t111500 \t2.42465 \t2.04098e+06\n",
      "30 \t500   \t356.025\t1176.27\t2.13042 \t13295.7    \n",
      "31 \t500   \t2369.43\t64415  \t2.11804 \t2.03793e+06\n",
      "32 \t500   \t2467.14\t66340.2\t1.44304 \t2.09875e+06\n",
      "33 \t500   \t2384.39\t66340.1\t1.44304 \t2.09892e+06\n",
      "34 \t500   \t2312.26\t66330.5\t1.44304 \t2.0987e+06 \n",
      "35 \t500   \t2409.75\t64514.3\t1.44304 \t2.04103e+06\n",
      "36 \t500   \t283.662\t1132.35\t1.17164 \t14323.3    \n",
      "37 \t500   \t316.753\t1303.1 \t1.17164 \t13808.5    \n",
      "38 \t500   \t267.987\t1135.62\t1.17164 \t13400.6    \n",
      "39 \t500   \t248.083\t1008.18\t1.17164 \t13287.8    \n",
      "40 \t500   \t315.561\t1364.11\t1.17164 \t12805.5    \n",
      "41 \t500   \t2287.58\t64492.2\t1.17164 \t2.04043e+06\n",
      "42 \t500   \t2353.68\t66337  \t1.17164 \t2.0988e+06 \n",
      "43 \t500   \t273.564\t1187.31\t0.880553\t14963.9    \n",
      "44 \t500   \t2448.52\t66341.3\t0.880553\t2.09882e+06\n",
      "45 \t500   \t257.895\t1069.17\t0.880553\t12522      \n",
      "46 \t500   \t2326.48\t64507.9\t0.880553\t2.04081e+06\n",
      "47 \t500   \t270.439\t1151.57\t0.880553\t13711.6    \n",
      "48 \t500   \t314.375\t1283.69\t0.880553\t12697.3    \n",
      "49 \t500   \t4401.94\t91105.3\t0.880553\t2.04072e+06\n",
      "50 \t500   \t4045.47\t81793.7\t0.880553\t2.03828e+06\n",
      "51 \t500   \t8540.81\t128708 \t0.880553\t2.04113e+06\n",
      "52 \t500   \t2346.97\t64532.5\t0.880553\t2.04168e+06\n",
      "53 \t500   \t4364.63\t91161.5\t0.880553\t2.04084e+06\n",
      "54 \t500   \t2363.86\t64529.7\t0.880553\t2.04168e+06\n",
      "55 \t500   \t1385.38\t34589.2\t0.880553\t1.09397e+06\n",
      "56 \t500   \t2388.33\t64533.1\t0.880553\t2.04157e+06\n",
      "57 \t500   \t318.774\t1327.1 \t0.880553\t13660.1    \n",
      "58 \t500   \t2399.39\t64814.3\t0.880553\t2.05061e+06\n",
      "59 \t500   \t283.473\t1257.47\t0.880553\t13156.7    \n",
      "60 \t500   \t290.615\t1330.65\t0.880553\t13839.4    \n",
      "61 \t500   \t318.37 \t1345   \t0.880553\t13365      \n",
      "62 \t500   \t333.145\t1464.09\t0.880553\t15421      \n",
      "63 \t500   \t327.563\t1476.97\t0.880553\t13455.8    \n",
      "64 \t500   \t275.924\t1047.29\t0.880553\t13353.3    \n",
      "65 \t500   \t2334.36\t64417.5\t0.880553\t2.03798e+06\n",
      "66 \t500   \t2339.3 \t64538.9\t0.880553\t2.04182e+06\n",
      "67 \t500   \t317.298\t1426.65\t0.880553\t15289      \n",
      "68 \t500   \t360.656\t1525.84\t0.880553\t13932.3    \n",
      "69 \t500   \t289.622\t1266.24\t0.880553\t13289      \n",
      "70 \t500   \t343.742\t1463.61\t0.880553\t14339.3    \n",
      "71 \t500   \t278.063\t1152.99\t0.880553\t13294.5    \n",
      "72 \t500   \t225.768\t898.158\t0.880553\t12367.7    \n",
      "73 \t500   \t341.712\t1383.14\t0.880553\t13334.2    \n"
     ]
    }
   ],
   "source": [
    "print(log)\n"
   ]
  },
  {
   "cell_type": "code",
   "execution_count": 6,
   "id": "ff2ef3c1",
   "metadata": {},
   "outputs": [],
   "source": [
    "def scale(val, src):\n",
    "    \"\"\"\n",
    "    scale val in the 0,1 range when given lb and ub\n",
    "    \"\"\"\n",
    "    return ((val - src[0]) / (src[1]-src[0])) "
   ]
  },
  {
   "cell_type": "code",
   "execution_count": 7,
   "id": "f82117cd",
   "metadata": {},
   "outputs": [],
   "source": [
    "csv_file = './csv_files/params_na12mut8st_mod_med.csv'\n",
    "\n",
    "def get_place_in_range(opt_ps,csv_file,print_flg = False):\n",
    "    p_names = []\n",
    "    p_fact = []\n",
    "    param_list = eh.read_params_range(csv_file)\n",
    "    for ind,p_name in enumerate(param_list.keys()):\n",
    "        tmp = param_list[p_name]\n",
    "        lb = tmp[1]\n",
    "        ub = tmp[2]\n",
    "        fact = scale(opt_ps[ind],[lb,ub])\n",
    "        p_names.append(p_name)\n",
    "        p_fact.append(fact)\n",
    "        if print_flg:\n",
    "            print(f'{p_name} - lb:{lb} ub:{ub} p:{fact}')\n",
    "    return p_names,p_fact\n",
    "    "
   ]
  },
  {
   "cell_type": "code",
   "execution_count": 8,
   "id": "2af52a4c",
   "metadata": {},
   "outputs": [
    {
     "name": "stdout",
     "output_type": "stream",
     "text": [
      "Best params: [334.4331967978862, 0.04761254947155932, 5.447122109492366, 0.12044929513636574, 392.24004086140474, 0.11047544041654586, 6.954686364170016, 0.015593497476071045, 29.33212813820402, 0.20420364846320443, 9.65622980569384, 0.008421784146833531, 1.7272368555792605, 1.3316364039002617, 0.12437758979968834, 8.813317900102527, 2.308912762677156, 0.005461538354530336, -24.000688864816514, -27.758668974996354, 4559.119248809896, 3.139644564885776, 6.360655179514854]\n",
      "[inact_err, act_err]: (0.0014984075433299375, 0.04254638196778872, 0.1375783938182567, 0.01768191532850184, 0.061338070461806234, 0.600000000000017, 0.019909339829873533)\n"
     ]
    }
   ],
   "source": [
    "best_hof = hof[0]\n",
    "p = best_hof\n",
    "print(\"Best params: \" + str(best_hof))\n",
    "print(\"[inact_err, act_err]: \" + str(evaluator.evaluate_with_lists(best_hof)))\n",
    "#print(\"Best invs list: \" + str(best_indvs))"
   ]
  },
  {
   "cell_type": "code",
   "execution_count": 9,
   "id": "678aa986",
   "metadata": {},
   "outputs": [],
   "source": [
    "pnames,pfactors = get_place_in_range(p,csv_file)"
   ]
  },
  {
   "cell_type": "code",
   "execution_count": 10,
   "id": "dcb662f7",
   "metadata": {},
   "outputs": [
    {
     "name": "stdout",
     "output_type": "stream",
     "text": [
      "a1_0 - lb:9.17 ub:1000.0 p:0.34193423493910674\n",
      "a1_1 - lb:0.0 ub:2.0 p:0.061885580138453314\n",
      "b1_0 - lb:0.0 ub:10.0 p:0.5327659679672808\n",
      "b1_1 - lb:0.0177 ub:0.4424 p:0.1621762425469933\n",
      "a2_0 - lb:0.0 ub:1000.0 p:0.39224004086140474\n",
      "a2_1 - lb:0.0 ub:3.0 p:0.03682514680551529\n",
      "b2_0 - lb:0.113 ub:10.0 p:0.563320986604028\n",
      "b2_1 - lb:0.0 ub:0.1 p:0.14911939947055863\n",
      "a3_0 - lb:0.0 ub:359.0595 p:0.040171151515327276\n",
      "a3_1 - lb:0.0132 ub:0.3297 p:0.4028261202975266\n",
      "b3_0 - lb:0.0 ub:100.0 p:0.0965622980569384\n",
      "b3_1 - lb:0.0 ub:0.1 p:0.0834540481838452\n",
      "bh_0 - lb:0.0 ub:4.0 p:0.019364720295463378\n",
      "bh_1 - lb:0.0 ub:1.445 p:0.921356778217505\n",
      "bh_2 - lb:0.0139 ub:0.348 p:0.33067222328550844\n",
      "ah_0 - lb:0.0 ub:10.0 p:0.8813317900102527\n",
      "ah_1 - lb:0.1 ub:1000.0 p:0.0022091336760447604\n",
      "ah_2 - lb:0.0 ub:0.1 p:0.13273883506183437\n",
      "vShift - lb:-60.0 ub:60.0 p:0.30023739722741716\n",
      "vShift_inact - lb:-60.0 ub:60.0 p:0.25153860201293693\n",
      "maxrate - lb:1600.0 ub:40000.0 p:0.1299941872449192\n",
      "ahfactor - lb:0.2 ub:5.0 p:0.8369903613575055\n",
      "bhfactor - lb:0.2 ub:5.0 p:1.2794901931914668\n"
     ]
    },
    {
     "data": {
      "text/plain": [
       "[Text(0, 0, 'a1_0'),\n",
       " Text(0, 1, 'a1_1'),\n",
       " Text(0, 2, 'b1_0'),\n",
       " Text(0, 3, 'b1_1'),\n",
       " Text(0, 4, 'a2_0'),\n",
       " Text(0, 5, 'a2_1'),\n",
       " Text(0, 6, 'b2_0'),\n",
       " Text(0, 7, 'b2_1'),\n",
       " Text(0, 8, 'a3_0'),\n",
       " Text(0, 9, 'a3_1'),\n",
       " Text(0, 10, 'b3_0'),\n",
       " Text(0, 11, 'b3_1'),\n",
       " Text(0, 12, 'bh_0'),\n",
       " Text(0, 13, 'bh_1'),\n",
       " Text(0, 14, 'bh_2'),\n",
       " Text(0, 15, 'ah_0'),\n",
       " Text(0, 16, 'ah_1'),\n",
       " Text(0, 17, 'ah_2'),\n",
       " Text(0, 18, 'vShift'),\n",
       " Text(0, 19, 'vShift_inact'),\n",
       " Text(0, 20, 'maxrate'),\n",
       " Text(0, 21, 'ahfactor'),\n",
       " Text(0, 22, 'bhfactor')]"
      ]
     },
     "execution_count": 10,
     "metadata": {},
     "output_type": "execute_result"
    },
    {
     "data": {
      "image/png": "[encoded data removed]",
      "text/plain": [
       "<Figure size 432x288 with 1 Axes>"
      ]
     },
     "metadata": {
      "needs_background": "light"
     },
     "output_type": "display_data"
    }
   ],
   "source": [
    "fig = plt.figure()\n",
    "ax = fig.add_subplot(111)\n",
    "yaxis = range(len(pnames))\n",
    "for p in hof[-10:-2]:\n",
    "    pnames,pfactors = get_place_in_range(p,csv_file)\n",
    "    ax.plot(pfactors,yaxis,'.')\n",
    "pnames,pfactors = get_place_in_range(hof[-1],csv_file,True)\n",
    "ax.plot(pfactors,yaxis,'.')\n",
    "ax.set_yticks(yaxis)\n",
    "ax.set_yticklabels(pnames)\n"
   ]
  },
  {
   "cell_type": "code",
   "execution_count": 11,
   "id": "597724c0",
   "metadata": {},
   "outputs": [],
   "source": [
    "p = best_hof"
   ]
  },
  {
   "cell_type": "code",
   "execution_count": 12,
   "id": "33294de2",
   "metadata": {},
   "outputs": [
    {
     "data": {
      "image/png": "[encoded data removed]",
      "text/plain": [
       "<Figure size 432x288 with 1 Axes>"
      ]
     },
     "metadata": {
      "needs_background": "light"
     },
     "output_type": "display_data"
    },
    {
     "data": {
      "image/png": "[encoded data removed]",
      "text/plain": [
       "<Figure size 432x288 with 1 Axes>"
      ]
     },
     "metadata": {
      "needs_background": "light"
     },
     "output_type": "display_data"
    }
   ],
   "source": [
    "plotter.plot_inact(None, 'na16', False,p,'na12mut8st',True,\"./Plots_Folder/jinan_testInact.pdf\", \"HMMtoHH\")"
   ]
  },
  {
   "cell_type": "code",
   "execution_count": null,
   "id": "d451e405",
   "metadata": {},
   "outputs": [],
   "source": [
    "plotter.plot_act(None,'na16' , False,p,'na12mut8st',True,\"./Plots_Folder/jinan_test.pdf\", \"HMMtoHH\")"
   ]
  },
  {
   "cell_type": "markdown",
   "id": "90106c57",
   "metadata": {},
   "source": [
    "# Test HH Target data"
   ]
  },
  {
   "cell_type": "code",
   "execution_count": null,
   "id": "5de5c7dd",
   "metadata": {},
   "outputs": [],
   "source": [
    "wild_data = {}\n",
    "# Getting objective base values for HH model.\n",
    "is_HMM = False \n",
    "# Create genSim objects\n",
    "\n",
    "act_obj = Activation_general(channel_name='na16')\n",
    "tau0 = act_obj.get_Tau_0mV()\n",
    "act_obj = Activation_general(channel_name='na16')\n",
    "act_obj.genActivation()\n",
    "peak_amp = act_obj.find_peak_amp([14, 33])\n",
    "time_to_peak = act_obj.find_time_to_peak([14, 33])\n",
    "gv_slope, v_half_act, top, bottom = cf.calc_act_obj(act_obj)\n",
    "inact_obj = Inactivation_general(channel_name='na16')\n",
    "ssi_slope, v_half_inact, top, bottom = cf.calc_inact_obj(inact_obj)\n",
    "wild_data['v_half_act'] = v_half_act\n",
    "wild_data['gv_slope'] = gv_slope\n",
    "wild_data['v_half_ssi'] = v_half_inact\n",
    "wild_data['ssi_slope'] = ssi_slope\n",
    "wild_data['tau0'] = tau0\n",
    "wild_data['peak_amp'] = peak_amp\n",
    "wild_data['time_to_peak'] = time_to_peak\n",
    "print(wild_data)\n",
    "\n"
   ]
  },
  {
   "cell_type": "code",
   "execution_count": null,
   "id": "8f0b91d5",
   "metadata": {},
   "outputs": [],
   "source": [
    "sf = evaluator.score_calculator\n",
    "print(evaluator.wild_data)"
   ]
  },
  {
   "cell_type": "markdown",
   "id": "fa0ba674",
   "metadata": {},
   "source": [
    "# Test Scoring"
   ]
  },
  {
   "cell_type": "code",
   "execution_count": null,
   "id": "cbc87f8d",
   "metadata": {},
   "outputs": [],
   "source": [
    "errors = evaluator.evaluate_with_lists(best_hof)\n",
    "print(errors)"
   ]
  },
  {
   "cell_type": "code",
   "execution_count": null,
   "id": "8ce1c3b8",
   "metadata": {},
   "outputs": [],
   "source": [
    "\n",
    "\n",
    "objective_names=['v_half_act', 'gv_slope', 'v_half_ssi', 'ssi_slope','tau0','peak_current','ttp']\n",
    "act_obj = Activation_general(channel_name='na12mut8st')\n",
    "inact_obj = Inactivation_general(channel_name='na12mut8st')\n",
    "param_values = best_hof\n",
    "eh.change_params(param_values, scaled=False, is_HMM=True, sim_obj=act_obj)\n",
    "eh.change_params(param_values, scaled=False, is_HMM=True, sim_obj=inact_obj)\n"
   ]
  },
  {
   "cell_type": "code",
   "execution_count": null,
   "id": "7747f500",
   "metadata": {},
   "outputs": [],
   "source": [
    "sf.dv_half_act_diff\n",
    "sf.gv_slope_diff"
   ]
  },
  {
   "cell_type": "code",
   "execution_count": null,
   "id": "c0879d8f",
   "metadata": {},
   "outputs": [],
   "source": [
    "objectives=['v_half_act', 'gv_slope', 'v_half_ssi', 'ssi_slope','tau0','peak_current','ttp']\n",
    "try:\n",
    "    gv_slope, v_half_act, top, bottom = cf.calc_act_obj(act_obj)\n",
    "    ssi_slope, v_half_inact, top, bottom = cf.calc_inact_obj(inact_obj)\n",
    "    # y0, plateau, percent_fast, k_fast, k_slow = cf.calc_recov_obj(recov_obj)\n",
    "    #print('gv_slope: ' + str(gv_slope))\n",
    "    #print('v_half_act: ' + str(v_half_act))\n",
    "    #print('ssi_slope: ' + str(ssi_slope))\n",
    "    #print('v_half_inact: ' + str(v_half_inact))\n",
    "\n",
    "except ZeroDivisionError:\n",
    "    print('Zero Division Error************')\n",
    "    error_val = []\n",
    "    for i in range(len(objectives)):\n",
    "        error_val.append(1000)\n",
    "\n",
    "\n",
    "errors = []\n",
    "if 'v_half_act' in objectives:\n",
    "    vhalf_act_error = sf.dv_half_act(sf.dv_half_act_diff, v_half_act)\n",
    "    errors.append(vhalf_act_error)\n",
    "if 'gv_slope' in objectives:\n",
    "    gv_slope_error = self.gv_slope(sf.gv_slope_diff, gv_slope)\n",
    "    errors.append(gv_slope_error)\n",
    "if 'v_half_ssi' in objectives:\n",
    "    v_half_ssi_error = self.dv_half_ssi(sf.dv_half_ssi_diff, v_half_inact)\n",
    "    errors.append(v_half_ssi_error)\n",
    "if 'ssi_slope' in objectives:\n",
    "    ssi_slope_error = self.ssi_slope(sf.ssi_slope_diff, ssi_slope)\n",
    "    errors.append(ssi_slope_error)\n",
    "if 'peak_current' in objectives:\n",
    "    peak_amp_errors = self.calc_peak_amp_err(act_obj)\n",
    "    errors.append(peak_amp_errors)\n",
    "if 'ttp' in objectives:\n",
    "    time_to_peak_error = self.calc_ttp_err(act_obj)\n",
    "    errors.append(time_to_peak_error)\n",
    "if 'tau0' in objectives:\n",
    "    tau0_error = self.calc_tau0_err(act_obj)\n",
    "    errors.append(tau0_error)"
   ]
  },
  {
   "cell_type": "code",
   "execution_count": null,
   "id": "8fbeded6",
   "metadata": {},
   "outputs": [],
   "source": []
  },
  {
   "cell_type": "code",
   "execution_count": null,
   "id": "b8458dc9",
   "metadata": {},
   "outputs": [],
   "source": [
    "print(objective_names)\n",
    "print(f\" vhalf_act is: {v_half_act} WT:{wild_data['v_half_act']} error: {errors[0]}\")\n",
    "print(f\" gv_slope is: {gv_slope} WT:{wild_data['gv_slope']} error: {errors[1]}\")\n",
    "print(f\" v_half_ssi is: {v_half_inact} WT:{wild_data['v_half_ssi']} error: {errors[2]}\")\n",
    "print(f\" ssi_slope is: {ssi_slope} WT:{wild_data['ssi_slope']} error: {errors[3]}\")\n",
    "print(f\" peak_current is: {peak_amp} WT:{wild_data['peak_amp']} error: {errors[4]}\")\n",
    "print(f\" ttp is: {time_to_peak} WT:{wild_data['time_to_peak']} error: {errors[5]}\")\n",
    "print(f\" tau0 is: {tau0} WT:{wild_data['tau0']} error: {errors[6]}\")\n"
   ]
  },
  {
   "cell_type": "code",
   "execution_count": null,
   "id": "ed44fe10",
   "metadata": {},
   "outputs": [],
   "source": [
    "np.sum([(time_to_peak[i] - wild_data['time_to_peak'][i]) for i in range(len(peak_amp))])\n"
   ]
  },
  {
   "cell_type": "code",
   "execution_count": null,
   "id": "ccfd0972",
   "metadata": {},
   "outputs": [],
   "source": [
    "print(act_obj.ipeak_vec)"
   ]
  },
  {
   "cell_type": "code",
   "execution_count": null,
   "id": "02adb2c5",
   "metadata": {},
   "outputs": [],
   "source": [
    "cf.calc_act_obj(act_obj)"
   ]
  },
  {
   "cell_type": "code",
   "execution_count": null,
   "id": "73ab37b8",
   "metadata": {},
   "outputs": [],
   "source": [
    "print(act_obj.ipeak_vec[12])"
   ]
  },
  {
   "cell_type": "code",
   "execution_count": null,
   "id": "0c86c57a",
   "metadata": {},
   "outputs": [],
   "source": [
    "i12 = act_obj.all_is[12]\n",
    "print(i12[np.argmin(i12)])"
   ]
  },
  {
   "cell_type": "code",
   "execution_count": null,
   "id": "d6b6916c",
   "metadata": {},
   "outputs": [],
   "source": [
    "print(act_obj.t_vec[np.argmin(i12)])"
   ]
  },
  {
   "cell_type": "code",
   "execution_count": null,
   "id": "5f30213e",
   "metadata": {},
   "outputs": [],
   "source": [
    "print(len(evaluator.wild_data['time_to_peak']))\n",
    "print(evaluator.wild_data['time_to_peak'][14:33])"
   ]
  },
  {
   "cell_type": "code",
   "execution_count": null,
   "id": "86c4ea29",
   "metadata": {},
   "outputs": [],
   "source": [
    "print(best_hof)"
   ]
  },
  {
   "cell_type": "code",
   "execution_count": null,
   "id": "14a9d6a5",
   "metadata": {},
   "outputs": [],
   "source": [
    "act_obj = Activation_general(channel_name='na12mut8st')\n",
    "act_obj.genActivation()\n",
    "time_to_peak = act_obj.find_time_to_peak([14,33])\n",
    "time_to_peak_error = np.sum([np.abs(time_to_peak[i] - wild_data['time_to_peak'][i]) for i in range(len(peak_amp))])"
   ]
  },
  {
   "cell_type": "code",
   "execution_count": null,
   "id": "9e205b21",
   "metadata": {},
   "outputs": [],
   "source": [
    "print(time_to_peak)"
   ]
  },
  {
   "cell_type": "code",
   "execution_count": null,
   "id": "24ecdaa4",
   "metadata": {},
   "outputs": [],
   "source": [
    "print(evaluator.wild_data['time_to_peak'])\n"
   ]
  },
  {
   "cell_type": "code",
   "execution_count": null,
   "id": "3ddadc20",
   "metadata": {},
   "outputs": [],
   "source": [
    "act_obj = Activation_general(channel_name='na12mut8st')\n",
    "eh.change_params(param_values, scaled=False, is_HMM=True, sim_obj=act_obj)\n",
    "act_obj.clamp(0)"
   ]
  },
  {
   "cell_type": "code",
   "execution_count": null,
   "id": "75a827f6",
   "metadata": {},
   "outputs": [],
   "source": [
    "act_obj.find_ipeaks()"
   ]
  },
  {
   "cell_type": "code",
   "execution_count": null,
   "id": "68c3581d",
   "metadata": {},
   "outputs": [],
   "source": []
  }
 ],
 "metadata": {
  "kernelspec": {
   "display_name": "Python 3 (ipykernel)",
   "language": "python",
   "name": "python3"
  },
  "language_info": {
   "codemirror_mode": {
    "name": "ipython",
    "version": 3
   },
   "file_extension": ".py",
   "mimetype": "text/x-python",
   "name": "python",
   "nbconvert_exporter": "python",
   "pygments_lexer": "ipython3",
   "version": "3.8.10"
  }
 },
 "nbformat": 4,
 "nbformat_minor": 5
}
